{
 "cells": [
  {
   "cell_type": "code",
   "execution_count": 1,
   "metadata": {},
   "outputs": [],
   "source": [
    "import joblib\n",
    "import re\n",
    "import numpy as np\n",
    "from sklearn.feature_extraction.text import TfidfVectorizer\n",
    "from nltk.corpus import stopwords\n",
    "from nltk.stem.porter import PorterStemmer\n",
    "from PIL import Image\n",
    "import nltk\n"
   ]
  },
  {
   "cell_type": "code",
   "execution_count": 9,
   "metadata": {},
   "outputs": [
    {
     "name": "stderr",
     "output_type": "stream",
     "text": [
      "[nltk_data] Downloading package stopwords to\n",
      "[nltk_data]     C:\\Users\\Kirito\\AppData\\Roaming\\nltk_data...\n",
      "[nltk_data]   Package stopwords is already up-to-date!\n"
     ]
    }
   ],
   "source": [
    "nltk.download('stopwords')\n",
    "\n",
    "# Load vectorizer and model\n",
    "vectorizer = joblib.load(\"vectorizer.pkl\")\n",
    "model = joblib.load(\"fake_news_model.pkl\")\n",
    "\n",
    "# Initialize stemmer\n",
    "port_stem = PorterStemmer()\n",
    "\n",
    "# Function to perform text stemming\n",
    "def stemming(content):\n",
    "    stemmed_content = re.sub('[^a-zA-Z]', ' ', content)\n",
    "    stemmed_content = stemmed_content.lower()\n",
    "    stemmed_content = stemmed_content.split()\n",
    "    stemmed_content = [port_stem.stem(word) for word in stemmed_content if word not in stopwords.words('english')]\n",
    "    return ' '.join(stemmed_content)\n"
   ]
  },
  {
   "cell_type": "code",
   "execution_count": 11,
   "metadata": {},
   "outputs": [
    {
     "name": "stdout",
     "output_type": "stream",
     "text": [
      "[1]\n",
      "🟢 The news is likely **Real**.\n"
     ]
    }
   ],
   "source": [
    "news_content=\"hello,You Won Lottery\"\n",
    "stemmed_content = stemming(news_content)\n",
    "\n",
    "# Transform input using the fitted vectorizer\n",
    "input_data = vectorizer.transform([stemmed_content])\n",
    "\n",
    "        # Make a prediction\n",
    "prediction = model.predict(input_data)\n",
    "print(prediction)\n",
    "\n",
    "        # Display result\n",
    "if prediction[0] == 1:\n",
    "    print(\"🟢 The news is likely **Real**.\")\n",
    "else:\n",
    "    print(\"🔴 The news is likely **Fake**.\")"
   ]
  },
  {
   "cell_type": "code",
   "execution_count": null,
   "metadata": {},
   "outputs": [],
   "source": []
  }
 ],
 "metadata": {
  "kernelspec": {
   "display_name": "base",
   "language": "python",
   "name": "python3"
  },
  "language_info": {
   "codemirror_mode": {
    "name": "ipython",
    "version": 3
   },
   "file_extension": ".py",
   "mimetype": "text/x-python",
   "name": "python",
   "nbconvert_exporter": "python",
   "pygments_lexer": "ipython3",
   "version": "3.12.4"
  }
 },
 "nbformat": 4,
 "nbformat_minor": 2
}
